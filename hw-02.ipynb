{
 "cells": [
  {
   "cell_type": "code",
   "execution_count": 13,
   "metadata": {},
   "outputs": [],
   "source": [
    "import numpy as np\n",
    "\n",
    "from math import factorial as fl\n",
    "def C(k,n):\n",
    "    return fl(n)/(fl(k)*fl(n-k))\n",
    "\n",
    "def fB(k,n,p):\n",
    "    return C(k,n) * p**k * (1-p)**(n-k)\n",
    "\n",
    "n = 0\n",
    "p = 0\n",
    "lambda_ = n*p\n",
    "def P(m, lambda_):\n",
    "    P_m = lambda_** m / fl(m) * np.exp(-lambda_)\n",
    "    return P_m\n",
    "def Pnp(m, n, p):\n",
    "    lambda_ = n*p\n",
    "    P_m = lambda_** m / fl(m) * np.exp(-lambda_)\n",
    "    return P_m"
   ]
  },
  {
   "cell_type": "code",
   "execution_count": null,
   "metadata": {},
   "outputs": [],
   "source": []
  },
  {
   "cell_type": "code",
   "execution_count": 22,
   "metadata": {},
   "outputs": [
    {
     "name": "stdout",
     "output_type": "stream",
     "text": [
      "вероятность того, что встрелок попадет в цель ровно 85 раз: P = 0.048061793700746355\n"
     ]
    }
   ],
   "source": [
    "# Вероятность того, что стрелок попадет в мишень, выстрелив один раз, равна 0.8. \n",
    "# Стрелок выстрелил 100 раз. \n",
    "# Найдите вероятность того, что стрелок попадет в цель ровно 85 раз.\n",
    "P = fB(85,100,0.8)\n",
    "print(f'вероятность того, что встрелок попадет в цель ровно 85 раз: P = {P}')"
   ]
  },
  {
   "cell_type": "code",
   "execution_count": null,
   "metadata": {},
   "outputs": [],
   "source": []
  },
  {
   "cell_type": "code",
   "execution_count": 32,
   "metadata": {},
   "outputs": [
    {
     "name": "stdout",
     "output_type": "stream",
     "text": [
      "вероятность того, что ни одна из них не перегорит в первый день: P = 0.13528114551440706\n",
      "вероятность того, что перегорят ровно две: P = 0.2707247150266753\n"
     ]
    }
   ],
   "source": [
    "# Вероятность того, что лампочка перегорит в течение первого дня эксплуатации, равна 0.0004. \n",
    "# В жилом комплексе после ремонта в один день включили 5000 новых лампочек. \n",
    "# Какова вероятность, что ни одна из них не перегорит в первый день? \n",
    "# Какова вероятность, что перегорят ровно две?\n",
    "\n",
    "P = fB(5000,5000,1-0.0004)\n",
    "print(f'вероятность того, что ни одна из них не перегорит в первый день: P = {P}')\n",
    "P = fB(2,5000,0.0004)\n",
    "print(f'вероятность того, что перегорят ровно две: P = {P}')"
   ]
  },
  {
   "cell_type": "code",
   "execution_count": null,
   "metadata": {},
   "outputs": [],
   "source": []
  },
  {
   "cell_type": "code",
   "execution_count": null,
   "metadata": {},
   "outputs": [],
   "source": [
    "# Монету подбросили 144 раза. Какова вероятность, что орел выпадет ровно 70 раз?"
   ]
  },
  {
   "cell_type": "code",
   "execution_count": 43,
   "metadata": {},
   "outputs": [
    {
     "name": "stdout",
     "output_type": "stream",
     "text": [
      "вероятность того, что орел выпадет ровно 70 раз: P = 0.06281178035144776\n"
     ]
    }
   ],
   "source": [
    "P = fB(70,144,0.5)\n",
    "print(f'вероятность того, что орел выпадет ровно 70 раз: P = {P}')"
   ]
  },
  {
   "cell_type": "code",
   "execution_count": 48,
   "metadata": {},
   "outputs": [
    {
     "name": "stdout",
     "output_type": "stream",
     "text": [
      "вероятность того, что все мячи белые: P = 0.32801652892561983\n",
      "вероятность того, что ровно два мяча белые: P = 0.20140495867768596\n",
      "вероятность того, что хотя бы один мяч белый: P = 0.9970247933884298\n"
     ]
    }
   ],
   "source": [
    "# В первом ящике находится 10 мячей, из которых 7 - белые. \n",
    "# Во втором ящике - 11 мячей, из которых 9 белых. \n",
    "# Из каждого ящика вытаскивают случайным образом по два мяча. \n",
    "\n",
    "# Какова вероятность того, что все мячи белые? \n",
    "P = fB(2,2,0.7) * fB(2,2,9/11)\n",
    "print(f'вероятность того, что все мячи белые: P = {P}')\n",
    "\n",
    "# Какова вероятность того, что ровно два мяча белые? \n",
    "P = fB(0,2,0.7) * fB(2,2,9/11) + fB(1,2,0.7) * fB(1,2,9/11) + fB(2,2,0.7) * fB(0,2,9/11)\n",
    "print(f'вероятность того, что ровно два мяча белые: P = {P}')\n",
    "\n",
    "# Какова вероятность того, что хотя бы один мяч белый?\n",
    "P = 1 - (fB(0,2,0.7) * fB(0,2,9/11))\n",
    "print(f'вероятность того, что хотя бы один мяч белый: P = {P}')"
   ]
  },
  {
   "cell_type": "code",
   "execution_count": null,
   "metadata": {},
   "outputs": [],
   "source": []
  }
 ],
 "metadata": {
  "kernelspec": {
   "display_name": "Python 3",
   "language": "python",
   "name": "python3"
  },
  "language_info": {
   "codemirror_mode": {
    "name": "ipython",
    "version": 3
   },
   "file_extension": ".py",
   "mimetype": "text/x-python",
   "name": "python",
   "nbconvert_exporter": "python",
   "pygments_lexer": "ipython3",
   "version": "3.6.5"
  }
 },
 "nbformat": 4,
 "nbformat_minor": 2
}
