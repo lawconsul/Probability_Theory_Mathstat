{
 "cells": [
  {
   "cell_type": "raw",
   "metadata": {},
   "source": [
    "1. Даны значения величины заработной платы заемщиков банка (zp) и значения их поведенческого кредитного скоринга (ks). \n",
    "    Используя математические операции, посчитать коэффициенты линейной регрессии, приняв за X заработную плату \n",
    "    (то есть, zp - признак), а за y - значения скорингового балла (то есть, ks - целевая переменная). \n",
    "    Произвести расчет как с использованием intercept, так и без."
   ]
  },
  {
   "cell_type": "code",
   "execution_count": 10,
   "metadata": {},
   "outputs": [
    {
     "name": "stdout",
     "output_type": "stream",
     "text": [
      "a:444.1773573243596, b:2.620538882402765\n"
     ]
    }
   ],
   "source": [
    "import numpy as np\n",
    "# количество наблюдений\n",
    "n = 10\n",
    "x = np.array([35, 45, 190, 200, 40, 70, 54, 150, 120, 110]) \n",
    "y = np.array([401, 574, 874, 919, 459, 739, 653, 902, 746, 832])\n",
    "b = (np.mean(x * y) - np.mean(x) * np.mean(y)) / (np.mean(x**2) - np.mean(x) ** 2)\n",
    "a = np.mean(y) - b * np.mean(x)\n",
    "print(\"a:{}, b:{}\".format(a,b))"
   ]
  },
  {
   "cell_type": "markdown",
   "metadata": {},
   "source": [
    "Итак, уравнение регрессии имеет вид (коэффициенты округлены до сотых):\n",
    "## 𝑦 = 2.62 + 444.178⋅𝑥 \n",
    "С увеличением зарплаты на 1 тыс. рублей значение скорингового балла возрастет на 444."
   ]
  },
  {
   "cell_type": "markdown",
   "metadata": {},
   "source": [
    "Найдем коэффициент корреляции  𝑟  с помощью коэффициента  𝑏  и средних квадратического отклонения, посчитанного для массивов  𝑥  и  𝑦 :"
   ]
  },
  {
   "cell_type": "code",
   "execution_count": 5,
   "metadata": {},
   "outputs": [
    {
     "data": {
      "text/plain": [
       "0.8874900920739162"
      ]
     },
     "execution_count": 5,
     "metadata": {},
     "output_type": "execute_result"
    }
   ],
   "source": [
    "r = b * np.std(x) / np.std(y)\n",
    "r"
   ]
  },
  {
   "cell_type": "markdown",
   "metadata": {},
   "source": [
    "Найдем коэффициент детерминации  𝑅2 :"
   ]
  },
  {
   "cell_type": "code",
   "execution_count": 6,
   "metadata": {},
   "outputs": [
    {
     "data": {
      "text/plain": [
       "0.7876386635293682"
      ]
     },
     "execution_count": 6,
     "metadata": {},
     "output_type": "execute_result"
    }
   ],
   "source": [
    "R2 = r**2\n",
    "R2"
   ]
  },
  {
   "cell_type": "markdown",
   "metadata": {},
   "source": [
    "Это означает, что 78.8% вариации значение скорингового балла ( 𝑦 ) объясняется вариацией фактора  𝑥  — зарплаты.\n",
    "С помощью этого уравнения регрессии посчитаем значения, предсказанные моделью значения скорингового балла:"
   ]
  },
  {
   "cell_type": "code",
   "execution_count": 7,
   "metadata": {},
   "outputs": [
    {
     "data": {
      "text/plain": [
       "array([535.89621821, 562.10160703, 942.07974498, 968.2851338 ,\n",
       "       548.99891262, 627.61507909, 585.68645697, 837.25818968,\n",
       "       758.64202321, 732.43663439])"
      ]
     },
     "execution_count": 7,
     "metadata": {},
     "output_type": "execute_result"
    }
   ],
   "source": [
    "y_pred = a + b * x\n",
    "y_pred"
   ]
  },
  {
   "cell_type": "markdown",
   "metadata": {},
   "source": [
    "Качество модели найдем с помощью средней ошибки аппроксимации  𝐴⎯⎯⎯⎯ :"
   ]
  },
  {
   "cell_type": "code",
   "execution_count": 8,
   "metadata": {},
   "outputs": [
    {
     "data": {
      "text/plain": [
       "11.46925184356171"
      ]
     },
     "execution_count": 8,
     "metadata": {},
     "output_type": "execute_result"
    }
   ],
   "source": [
    "A_mean = 100 * np.mean(np.abs((y - y_pred) / y))\n",
    "A_mean"
   ]
  },
  {
   "cell_type": "markdown",
   "metadata": {},
   "source": [
    "Так как  𝐴⎯⎯⎯⎯  равна 11.5%, что превышает 8-10 %, модель плохо описывает эмпирические данные. Для оценки значимости\n",
    "\n",
    "уравнения регрессии воспользуемся F-критерием Фишера. Найдем фактическое значение  𝐹 -критерия ( 𝐹факт ):"
   ]
  },
  {
   "cell_type": "code",
   "execution_count": 11,
   "metadata": {},
   "outputs": [
    {
     "data": {
      "text/plain": [
       "29.671640859664432"
      ]
     },
     "execution_count": 11,
     "metadata": {},
     "output_type": "execute_result"
    }
   ],
   "source": [
    "F_fact = (r**2 * (n - 2)) / (1 - r**2)\n",
    "F_fact"
   ]
  },
  {
   "cell_type": "markdown",
   "metadata": {},
   "source": [
    "При 5 % уровне значимости и степенях свободы  𝑘1=1  и  𝑘2=10−2=8  табличное значение критерия:  𝐹кр=5.3177 .\n",
    "\n",
    "Так как  𝐹факт=29.67 > 𝐹кр=5.32 , уравнение регрессии статистически значимо."
   ]
  },
  {
   "cell_type": "markdown",
   "metadata": {},
   "source": [
    "Для оценки статистической значимости параметров регрессии воспользуемся  𝑡 -статистикой Стьюдента и также рассчитаем\n",
    "\n",
    "доверительные интервалы каждого из показателей. При  𝑑𝑓=𝑛−2=10−2=8  и  𝛼=0.05  получим\n",
    "\n",
    "(см. Таблицу критических значений t-критерия Стьюдента):\n",
    "\n",
    "𝑡кр=2.306 \n",
    "Определим стандартную ошибку  𝑆ост  (переменная s_residual) и случайные ошибки  𝑚𝑎,𝑚𝑏 :"
   ]
  },
  {
   "cell_type": "code",
   "execution_count": 12,
   "metadata": {},
   "outputs": [
    {
     "name": "stdout",
     "output_type": "stream",
     "text": [
      "s_residual = 89.93340731602925\n",
      "m_a = 56.466497550681524\n",
      "m_b = 0.48108279568516\n"
     ]
    }
   ],
   "source": [
    "s_residual = np.sqrt(np.sum((y - y_pred)**2) / (n - 2))\n",
    "m_a = s_residual * np.sqrt(np.sum(x ** 2)) / (n * np.std(x))\n",
    "m_b = s_residual / (np.std(x) * np.sqrt(n))\n",
    "\n",
    "print('s_residual = {}\\nm_a = {}\\nm_b = {}'.format(s_residual, m_a, m_b))"
   ]
  },
  {
   "cell_type": "markdown",
   "metadata": {},
   "source": [
    "Вычислим наблюдаемые значения критерия  𝑡𝑎  и  𝑡𝑏 :"
   ]
  },
  {
   "cell_type": "code",
   "execution_count": 13,
   "metadata": {},
   "outputs": [
    {
     "data": {
      "text/plain": [
       "7.866210524668864"
      ]
     },
     "execution_count": 13,
     "metadata": {},
     "output_type": "execute_result"
    }
   ],
   "source": [
    "t_a = a / m_a\n",
    "t_a"
   ]
  },
  {
   "cell_type": "code",
   "execution_count": 14,
   "metadata": {},
   "outputs": [
    {
     "data": {
      "text/plain": [
       "5.447168150485579"
      ]
     },
     "execution_count": 14,
     "metadata": {},
     "output_type": "execute_result"
    }
   ],
   "source": [
    "t_b = b / m_b\n",
    "t_b"
   ]
  },
  {
   "cell_type": "markdown",
   "metadata": {},
   "source": [
    "Фактические значения t-статистики больше табличного значения:\n",
    "\n",
    "𝑡𝑎=7.87>𝑡кр=2.306,𝑡𝑏=5.45>𝑡кр=2.306, \n",
    "поэтому параметры  𝑎  и  𝑏  не случайно отличаются от нуля, то есть они статистически значимы.\n",
    "\n",
    "Рассчитаем доверительные интервалы для параметров регрессии  𝑎  и  𝑏 . Для этого определим предельную ошибку для каждого показателя ( Δ𝑎  и  Δ𝑏 ),\n",
    "\n",
    "используя значение  𝑡кр , равное 2.306 (переменная t_cr):"
   ]
  },
  {
   "cell_type": "code",
   "execution_count": 25,
   "metadata": {},
   "outputs": [],
   "source": [
    "t_cr = 2.306"
   ]
  },
  {
   "cell_type": "code",
   "execution_count": 26,
   "metadata": {},
   "outputs": [
    {
     "data": {
      "text/plain": [
       "130.2117433518716"
      ]
     },
     "execution_count": 26,
     "metadata": {},
     "output_type": "execute_result"
    }
   ],
   "source": [
    "delta_a = t_cr * m_a\n",
    "delta_a"
   ]
  },
  {
   "cell_type": "code",
   "execution_count": 27,
   "metadata": {},
   "outputs": [
    {
     "data": {
      "text/plain": [
       "1.109376926849979"
      ]
     },
     "execution_count": 27,
     "metadata": {},
     "output_type": "execute_result"
    }
   ],
   "source": [
    "delta_b = t_cr * m_b\n",
    "delta_b"
   ]
  },
  {
   "cell_type": "markdown",
   "metadata": {},
   "source": [
    "Найдем границы доверительных интервалов  𝛾𝑎𝑚𝑖𝑛,𝛾𝑎𝑚𝑎𝑥,𝛾𝑏𝑚𝑖𝑛,𝛾𝑏𝑚𝑎𝑥 :"
   ]
  },
  {
   "cell_type": "code",
   "execution_count": 28,
   "metadata": {},
   "outputs": [
    {
     "data": {
      "text/plain": [
       "313.965613972488"
      ]
     },
     "execution_count": 28,
     "metadata": {},
     "output_type": "execute_result"
    }
   ],
   "source": [
    "gamma_a_min = a - delta_a\n",
    "gamma_a_min"
   ]
  },
  {
   "cell_type": "code",
   "execution_count": 29,
   "metadata": {},
   "outputs": [
    {
     "data": {
      "text/plain": [
       "574.3891006762312"
      ]
     },
     "execution_count": 29,
     "metadata": {},
     "output_type": "execute_result"
    }
   ],
   "source": [
    "gamma_a_max = a + delta_a\n",
    "gamma_a_max"
   ]
  },
  {
   "cell_type": "code",
   "execution_count": 30,
   "metadata": {},
   "outputs": [
    {
     "data": {
      "text/plain": [
       "1.511161955552786"
      ]
     },
     "execution_count": 30,
     "metadata": {},
     "output_type": "execute_result"
    }
   ],
   "source": [
    "gamma_b_min = b - delta_b\n",
    "gamma_b_min"
   ]
  },
  {
   "cell_type": "code",
   "execution_count": 31,
   "metadata": {},
   "outputs": [
    {
     "data": {
      "text/plain": [
       "3.729915809252744"
      ]
     },
     "execution_count": 31,
     "metadata": {},
     "output_type": "execute_result"
    }
   ],
   "source": [
    "gamma_b_max = b + delta_b\n",
    "gamma_b_max"
   ]
  },
  {
   "cell_type": "markdown",
   "metadata": {},
   "source": [
    "Приходим к выводу о том, что с вероятностью  𝑝=1−𝛼=0.95  параметры  𝑎  и  𝑏 , находясь в указанных границах,\n",
    "\n",
    "являются статистически значимыми и отличны от нуля. Поместим исходные и предсказанные данные в датафрейм df:"
   ]
  },
  {
   "cell_type": "code",
   "execution_count": 32,
   "metadata": {},
   "outputs": [
    {
     "data": {
      "text/html": [
       "<div>\n",
       "<style scoped>\n",
       "    .dataframe tbody tr th:only-of-type {\n",
       "        vertical-align: middle;\n",
       "    }\n",
       "\n",
       "    .dataframe tbody tr th {\n",
       "        vertical-align: top;\n",
       "    }\n",
       "\n",
       "    .dataframe thead th {\n",
       "        text-align: right;\n",
       "    }\n",
       "</style>\n",
       "<table border=\"1\" class=\"dataframe\">\n",
       "  <thead>\n",
       "    <tr style=\"text-align: right;\">\n",
       "      <th></th>\n",
       "      <th>x</th>\n",
       "      <th>y</th>\n",
       "      <th>y_pred</th>\n",
       "    </tr>\n",
       "  </thead>\n",
       "  <tbody>\n",
       "    <tr>\n",
       "      <th>0</th>\n",
       "      <td>35</td>\n",
       "      <td>401</td>\n",
       "      <td>535.896218</td>\n",
       "    </tr>\n",
       "    <tr>\n",
       "      <th>1</th>\n",
       "      <td>45</td>\n",
       "      <td>574</td>\n",
       "      <td>562.101607</td>\n",
       "    </tr>\n",
       "    <tr>\n",
       "      <th>2</th>\n",
       "      <td>190</td>\n",
       "      <td>874</td>\n",
       "      <td>942.079745</td>\n",
       "    </tr>\n",
       "    <tr>\n",
       "      <th>3</th>\n",
       "      <td>200</td>\n",
       "      <td>919</td>\n",
       "      <td>968.285134</td>\n",
       "    </tr>\n",
       "    <tr>\n",
       "      <th>4</th>\n",
       "      <td>40</td>\n",
       "      <td>459</td>\n",
       "      <td>548.998913</td>\n",
       "    </tr>\n",
       "    <tr>\n",
       "      <th>5</th>\n",
       "      <td>70</td>\n",
       "      <td>739</td>\n",
       "      <td>627.615079</td>\n",
       "    </tr>\n",
       "    <tr>\n",
       "      <th>6</th>\n",
       "      <td>54</td>\n",
       "      <td>653</td>\n",
       "      <td>585.686457</td>\n",
       "    </tr>\n",
       "    <tr>\n",
       "      <th>7</th>\n",
       "      <td>150</td>\n",
       "      <td>902</td>\n",
       "      <td>837.258190</td>\n",
       "    </tr>\n",
       "    <tr>\n",
       "      <th>8</th>\n",
       "      <td>120</td>\n",
       "      <td>746</td>\n",
       "      <td>758.642023</td>\n",
       "    </tr>\n",
       "    <tr>\n",
       "      <th>9</th>\n",
       "      <td>110</td>\n",
       "      <td>832</td>\n",
       "      <td>732.436634</td>\n",
       "    </tr>\n",
       "  </tbody>\n",
       "</table>\n",
       "</div>"
      ],
      "text/plain": [
       "     x    y      y_pred\n",
       "0   35  401  535.896218\n",
       "1   45  574  562.101607\n",
       "2  190  874  942.079745\n",
       "3  200  919  968.285134\n",
       "4   40  459  548.998913\n",
       "5   70  739  627.615079\n",
       "6   54  653  585.686457\n",
       "7  150  902  837.258190\n",
       "8  120  746  758.642023\n",
       "9  110  832  732.436634"
      ]
     },
     "execution_count": 32,
     "metadata": {},
     "output_type": "execute_result"
    }
   ],
   "source": [
    "import pandas as pd\n",
    "\n",
    "df = pd.DataFrame({'x': x, 'y': y, 'y_pred': y_pred}, columns=['x', 'y', 'y_pred'])\n",
    "df"
   ]
  },
  {
   "cell_type": "markdown",
   "metadata": {},
   "source": [
    "Отсортируем значения по полю x:"
   ]
  },
  {
   "cell_type": "code",
   "execution_count": 33,
   "metadata": {},
   "outputs": [
    {
     "data": {
      "text/html": [
       "<div>\n",
       "<style scoped>\n",
       "    .dataframe tbody tr th:only-of-type {\n",
       "        vertical-align: middle;\n",
       "    }\n",
       "\n",
       "    .dataframe tbody tr th {\n",
       "        vertical-align: top;\n",
       "    }\n",
       "\n",
       "    .dataframe thead th {\n",
       "        text-align: right;\n",
       "    }\n",
       "</style>\n",
       "<table border=\"1\" class=\"dataframe\">\n",
       "  <thead>\n",
       "    <tr style=\"text-align: right;\">\n",
       "      <th></th>\n",
       "      <th>x</th>\n",
       "      <th>y</th>\n",
       "      <th>y_pred</th>\n",
       "    </tr>\n",
       "  </thead>\n",
       "  <tbody>\n",
       "    <tr>\n",
       "      <th>0</th>\n",
       "      <td>35</td>\n",
       "      <td>401</td>\n",
       "      <td>535.896218</td>\n",
       "    </tr>\n",
       "    <tr>\n",
       "      <th>4</th>\n",
       "      <td>40</td>\n",
       "      <td>459</td>\n",
       "      <td>548.998913</td>\n",
       "    </tr>\n",
       "    <tr>\n",
       "      <th>1</th>\n",
       "      <td>45</td>\n",
       "      <td>574</td>\n",
       "      <td>562.101607</td>\n",
       "    </tr>\n",
       "    <tr>\n",
       "      <th>6</th>\n",
       "      <td>54</td>\n",
       "      <td>653</td>\n",
       "      <td>585.686457</td>\n",
       "    </tr>\n",
       "    <tr>\n",
       "      <th>5</th>\n",
       "      <td>70</td>\n",
       "      <td>739</td>\n",
       "      <td>627.615079</td>\n",
       "    </tr>\n",
       "    <tr>\n",
       "      <th>9</th>\n",
       "      <td>110</td>\n",
       "      <td>832</td>\n",
       "      <td>732.436634</td>\n",
       "    </tr>\n",
       "    <tr>\n",
       "      <th>8</th>\n",
       "      <td>120</td>\n",
       "      <td>746</td>\n",
       "      <td>758.642023</td>\n",
       "    </tr>\n",
       "    <tr>\n",
       "      <th>7</th>\n",
       "      <td>150</td>\n",
       "      <td>902</td>\n",
       "      <td>837.258190</td>\n",
       "    </tr>\n",
       "    <tr>\n",
       "      <th>2</th>\n",
       "      <td>190</td>\n",
       "      <td>874</td>\n",
       "      <td>942.079745</td>\n",
       "    </tr>\n",
       "    <tr>\n",
       "      <th>3</th>\n",
       "      <td>200</td>\n",
       "      <td>919</td>\n",
       "      <td>968.285134</td>\n",
       "    </tr>\n",
       "  </tbody>\n",
       "</table>\n",
       "</div>"
      ],
      "text/plain": [
       "     x    y      y_pred\n",
       "0   35  401  535.896218\n",
       "4   40  459  548.998913\n",
       "1   45  574  562.101607\n",
       "6   54  653  585.686457\n",
       "5   70  739  627.615079\n",
       "9  110  832  732.436634\n",
       "8  120  746  758.642023\n",
       "7  150  902  837.258190\n",
       "2  190  874  942.079745\n",
       "3  200  919  968.285134"
      ]
     },
     "execution_count": 33,
     "metadata": {},
     "output_type": "execute_result"
    }
   ],
   "source": [
    "df = df.sort_values('x')\n",
    "df"
   ]
  },
  {
   "cell_type": "markdown",
   "metadata": {},
   "source": [
    "Построим на одном графике исходные данные и теоретическую прямую, построенную по уравнению регрессии:"
   ]
  },
  {
   "cell_type": "code",
   "execution_count": 35,
   "metadata": {},
   "outputs": [
    {
     "data": {
      "image/png": "[encoded data removed]",
      "text/plain": [
       "<Figure size 432x288 with 1 Axes>"
      ]
     },
     "metadata": {},
     "output_type": "display_data"
    }
   ],
   "source": [
    "import matplotlib.pyplot as plt\n",
    "\n",
    "plt.scatter(df['x'], df['y'])\n",
    "plt.plot(df['x'], df['y_pred'])\n",
    "plt.xlabel('Зарплата (тыс. рублей)')\n",
    "plt.ylabel('Скоринг (баллы)')\n",
    "plt.show()"
   ]
  },
  {
   "cell_type": "code",
   "execution_count": null,
   "metadata": {},
   "outputs": [],
   "source": []
  },
  {
   "cell_type": "markdown",
   "metadata": {},
   "source": [
    "2. Посчитать коэффициент линейной регрессии при заработной плате (zp), используя градиентный спуск (без intercept).\n"
   ]
  },
  {
   "cell_type": "code",
   "execution_count": 120,
   "metadata": {},
   "outputs": [],
   "source": [
    "def mse_(w1, y=y[0], x=x[1]):\n",
    "#     n = y.shape\n",
    "    n=10\n",
    "    err = np.sum((y - y_pred)**2)/n\n",
    "    return err"
   ]
  },
  {
   "cell_type": "code",
   "execution_count": 121,
   "metadata": {},
   "outputs": [],
   "source": [
    "x = np.array([35, 45, 190, 200, 40, 70, 54, 150, 120, 110]) \n",
    "y = np.array([401, 574, 874, 919, 459, 739, 653, 902, 746, 832])\n",
    "\n",
    "x = x.T\n",
    "y = y.T"
   ]
  },
  {
   "cell_type": "code",
   "execution_count": 164,
   "metadata": {},
   "outputs": [
    {
     "name": "stdout",
     "output_type": "stream",
     "text": [
      "i=0, w1=0.115952808, mse = 152806.48599999998\n",
      "i=10, w1=0.2730832315080305, mse = 140769.0612716897\n",
      "i=20, w1=0.4259374970487512, mse = 129715.6054344105\n",
      "i=30, w1=0.5746319762741513, mse = 119584.10118554549\n",
      "i=40, w1=0.7192798738902163, mse = 110316.11088760686\n",
      "i=50, w1=0.8599913138424097, mse = 101856.57757836519\n",
      "i=60, w1=0.9968734231556994, mse = 94153.63684948569\n",
      "i=70, w1=1.1300304134929542, mse = 87158.4390051268\n",
      "i=80, w1=1.2595636604938043, mse = 80824.98094369259\n",
      "i=90, w1=1.3855717809543708, mse = 75109.9472359553\n",
      "i=100, w1=1.508150707906618, mse = 69972.55990117858\n",
      "i=110, w1=1.627393763654494, mse = 65374.436409751535\n",
      "i=120, w1=1.7433917308224578, mse = 61279.45546628265\n",
      "i=130, w1=1.8562329214704902, mse = 57653.63015116693\n",
      "i=140, w1=1.9660032443282016, mse = 54464.988021413235\n",
      "i=150, w1=2.072786270199228, mse = 51683.45779306338\n",
      "i=160, w1=2.176663295585704, mse = 49280.76224792131\n",
      "i=170, w1=2.2777134045812613, mse = 47230.31702659891\n",
      "i=180, w1=2.376013529079662, mse = 45507.13498813553\n",
      "i=190, w1=2.471638507344908, mse = 44087.73583371552\n",
      "i=200, w1=2.564661140987428, mse = 42950.060708345394\n",
      "i=210, w1=2.6551522503897034, mse = 42073.3915098112\n",
      "i=220, w1=2.7431807286235372, mse = 41438.27464886078\n",
      "i=230, w1=2.828813593900021, mse = 41026.4490183943\n",
      "i=240, w1=2.9121160405921174, mse = 40820.77794253774\n",
      "i=250, w1=2.9931514888687207, mse = 40805.18488886195\n",
      "i=260, w1=3.0719816329779555, mse = 40964.59273872882\n",
      "i=270, w1=3.1486664882165116, mse = 41284.86642183428\n",
      "i=280, w1=3.2232644366207355, mse = 41752.758731508955\n",
      "i=290, w1=3.2958322714142914, mse = 42355.85914726208\n"
     ]
    }
   ],
   "source": [
    "w1 = 0.1\n",
    "alpha = 1*1e-7\n",
    "for i in range (1000):\n",
    "    y_pred = w1*x\n",
    "    w1 -= alpha * (2/n) * np.sum((y_pred - y) * x)\n",
    "    if (i%10 == 0) & (i < 300):\n",
    "        print('i={}, w1={}, mse = {}'.format(i, w1, mse_(w1)))"
   ]
  },
  {
   "cell_type": "code",
   "execution_count": 165,
   "metadata": {},
   "outputs": [],
   "source": [
    "w1=2.9931514888687207\n"
   ]
  },
  {
   "cell_type": "code",
   "execution_count": 166,
   "metadata": {},
   "outputs": [
    {
     "data": {
      "text/plain": [
       "172112.05063215055"
      ]
     },
     "execution_count": 166,
     "metadata": {},
     "output_type": "execute_result"
    }
   ],
   "source": [
    "f = 1/n * np.sum((w1*x - y)**2)\n",
    "f"
   ]
  },
  {
   "cell_type": "code",
   "execution_count": 167,
   "metadata": {},
   "outputs": [
    {
     "data": {
      "text/plain": [
       "-79812.49839690237"
      ]
     },
     "execution_count": 167,
     "metadata": {},
     "output_type": "execute_result"
    }
   ],
   "source": [
    "f_p = 1/n * np.sum(2*(w1*x - y)*x)\n",
    "f_p"
   ]
  },
  {
   "cell_type": "code",
   "execution_count": null,
   "metadata": {},
   "outputs": [],
   "source": []
  },
  {
   "cell_type": "markdown",
   "metadata": {},
   "source": [
    "3. В каких случаях для вычисления доверительных интервалов и проверки статистических гипотез используется таблица значений функции Лапласа, \n",
    "а в каких - таблица критических точек распределения Стьюдента?"
   ]
  },
  {
   "cell_type": "markdown",
   "metadata": {},
   "source": [
    "Для вычисления доверительных интервалов и проверки статистических гипотез используется:\n",
    "Когда измерений менее 30 - используется таблица критических точек распределения Стьюдента, \n",
    "таблица значений функции Лапласа - когда известно матожидание и дисперсия."
   ]
  },
  {
   "cell_type": "code",
   "execution_count": null,
   "metadata": {},
   "outputs": [],
   "source": []
  },
  {
   "cell_type": "markdown",
   "metadata": {},
   "source": [
    "*4. Произвести вычисления как в пункте 2, но с вычислением intercept. Учесть, что изменение коэффициентов должно производиться\n",
    "на каждом шаге одновременно (то есть изменение одного коэффициента не должно влиять на изменение другого во время одной итерации)."
   ]
  },
  {
   "cell_type": "code",
   "execution_count": 104,
   "metadata": {},
   "outputs": [],
   "source": [
    "def mse2(y, y_pred):\n",
    "    n = y.shape\n",
    "    err = np.sum((y - y_pred)**2)/n\n",
    "    return err"
   ]
  },
  {
   "cell_type": "code",
   "execution_count": 105,
   "metadata": {},
   "outputs": [],
   "source": [
    "x = np.array([35, 45, 190, 200, 40, 70, 54, 150, 120, 110]) \n",
    "y = np.array([401, 574, 874, 919, 459, 739, 653, 902, 746, 832])\n",
    "\n",
    "x = x.reshape(1,10)\n",
    "x = np.vstack([np.ones((1,10)),x])\n",
    "y = y.T"
   ]
  },
  {
   "cell_type": "code",
   "execution_count": 111,
   "metadata": {},
   "outputs": [
    {
     "name": "stdout",
     "output_type": "stream",
     "text": [
      "i=0, w0=0.169966, w1=8.07539, mse = [518196.384]\n",
      "i=150000, w0=434.29193010045395, w1=2.693299997369148, mse = [6495.20401777]\n",
      "i=300000, w0=443.9572751113981, w1=2.622158784794098, mse = [6470.42648836]\n",
      "i=450000, w0=444.1724575684502, w1=2.6205749467725648, mse = [6470.41420727]\n",
      "i=600000, w0=444.17724823962794, w1=2.6205396853146192, mse = [6470.41420118]\n",
      "i=750000, w0=444.17735489577376, w1=2.620538900278231, mse = [6470.41420118]\n",
      "i=900000, w0=444.17735727028435, w1=2.620538882800783, mse = [6470.41420118]\n",
      "i=1050000, w0=444.1773573232393, w1=2.620538882411011, mse = [6470.41420118]\n",
      "i=1200000, w0=444.1773573232393, w1=2.620538882411011, mse = [6470.41420118]\n",
      "i=1350000, w0=444.1773573232393, w1=2.620538882411011, mse = [6470.41420118]\n"
     ]
    }
   ],
   "source": [
    "W = np.array([[0.1, 0.1]])\n",
    "alpha = 5*1e-5\n",
    "for i in range (1500000):\n",
    "    y_pred = np.dot(W,x)\n",
    "\n",
    "    W[0,0] -= alpha * (2/n) * np.sum((y_pred - y))\n",
    "    W[0,1] -= alpha * (2/n) * np.sum((y_pred - y) * x[1])\n",
    "    if i%150000 == 0:\n",
    "        print('i={}, w0={}, w1={}, mse = {}'.format(i, W[0,0], W[0,1], mse2(y,y_pred)))"
   ]
  },
  {
   "cell_type": "markdown",
   "metadata": {},
   "source": [
    "w0=444.1773573232393, w1=2.620538882411011"
   ]
  },
  {
   "cell_type": "code",
   "execution_count": null,
   "metadata": {},
   "outputs": [],
   "source": []
  }
 ],
 "metadata": {
  "kernelspec": {
   "display_name": "Python 3",
   "language": "python",
   "name": "python3"
  },
  "language_info": {
   "codemirror_mode": {
    "name": "ipython",
    "version": 3
   },
   "file_extension": ".py",
   "mimetype": "text/x-python",
   "name": "python",
   "nbconvert_exporter": "python",
   "pygments_lexer": "ipython3",
   "version": "3.6.5"
  }
 },
 "nbformat": 4,
 "nbformat_minor": 2
}
