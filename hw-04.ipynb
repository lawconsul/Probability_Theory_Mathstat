{
 "cells": [
  {
   "cell_type": "code",
   "execution_count": 18,
   "metadata": {},
   "outputs": [
    {
     "name": "stdout",
     "output_type": "stream",
     "text": [
      "Минимальное значение (левая граница): 165.59883687224152\n",
      "Максимальное значение (правая граница): 881.1376973182568\n",
      "Среднее значение: 497.9806106713362\n",
      "Сигма**2: 10000.0\n",
      "Дисперсия: 10105.024558315577\n"
     ]
    },
    {
     "data": {
      "image/png": "[encoded data removed]",
      "text/plain": [
       "<Figure size 432x288 with 1 Axes>"
      ]
     },
     "metadata": {},
     "output_type": "display_data"
    }
   ],
   "source": [
    "# Случайная непрерывная величина A имеет равномерное распределение на промежутке (200, 800]. \n",
    "# Найдите ее среднее значение и дисперсию.\n",
    "\n",
    "import numpy as np\n",
    "import pandas as pd\n",
    "import matplotlib.pyplot as plt\n",
    "A1 = 200\n",
    "A2 = 800\n",
    "nu = (A2 + A1)/2\n",
    "sigma = (nu - A1)/3\n",
    "a = nu + sigma*np.random.randn(10000)\n",
    "print(f'Минимальное значение (левая граница): {a.min()}')\n",
    "print(f'Максимальное значение (правая граница): {a.max()}')\n",
    "print(f'Среднее значение: {a.mean()}')\n",
    "\n",
    "a_sigma_sq = ((a - a.mean())**2).sum() / len(a)\n",
    "print(f'Сигма**2: {sigma**2}')\n",
    "print(f'Дисперсия: {a_sigma_sq}')\n",
    "\n",
    "plt.hist(a, bins=25)\n",
    "plt.show()"
   ]
  },
  {
   "cell_type": "code",
   "execution_count": 20,
   "metadata": {},
   "outputs": [
    {
     "name": "stdout",
     "output_type": "stream",
     "text": [
      "Максимальное значение (правая граница): 3.1832815729997477\n"
     ]
    }
   ],
   "source": [
    "# О случайной непрерывной равномерно распределенной величине B известно, что ее дисперсия равна 0.2.\n",
    "# Можно ли найти правую границу величины B и ее среднее значение зная, что левая граница равна 0.5?\n",
    "# Если да, найдите ее.\n",
    "sigma_sq = 0.2\n",
    "a_left = 0.5\n",
    "sigma = np.sqrt(sigma_sq)\n",
    "a_right = a_left + 6*sigma\n",
    "print(f'Максимальное значение (правая граница): {a_right}')"
   ]
  },
  {
   "cell_type": "code",
   "execution_count": 21,
   "metadata": {},
   "outputs": [
    {
     "name": "stdout",
     "output_type": "stream",
     "text": [
      "Матожидание, среднее арифметическое M(X): -2\n",
      "Дисперсия D(x): 16.0\n",
      "Среднеквадратичное отклонение sigma или std(X): 4\n"
     ]
    }
   ],
   "source": [
    "# Непрерывная случайная величина X распределена нормально и задана плотностью распределения\n",
    "# f(x) = (1 / (4 * sqrt(2*pi))) * (exp(-(x+2)**2) / 32).\n",
    "# Найдите:\n",
    "# а). M(X)\n",
    "# б). D(X)\n",
    "# в). std(X) (среднее квадратичное отклонение)\n",
    "M_x = -(2)\n",
    "D_x = 32/2\n",
    "std_x = 4\n",
    "print(f'Матожидание, среднее арифметическое M(X): {M_x}')\n",
    "print(f'Дисперсия D(x): {D_x}')\n",
    "print(f'Среднеквадратичное отклонение sigma или std(X): {std_x}')"
   ]
  },
  {
   "cell_type": "code",
   "execution_count": 72,
   "metadata": {},
   "outputs": [
    {
     "name": "stdout",
     "output_type": "stream",
     "text": [
      "Вероятность того, что случайным образом выбранный взрослый человек имеет рост:\n",
      "а). больше 182 см:  {0.1587} , где sigma = {1.0}\n",
      "а). больше 190 см:  {0.022799999999999987} , где sigma = {2.0}\n",
      "в). от 166 см до 190 см: {0.8185} , где sigma = {-1.0} {2.0}\n",
      "г). от 166 см до 182 см: {0.6826} , где sigma = {-1.0} {1.0}\n",
      "д). от 158 см до 190 см {0.9544} , где sigma = {-2.0} {2.0}\n",
      "е). не выше 150 см или не ниже 190 см: {0.024150000000000005} , где sigma = {-3.0} {2.0}\n",
      "ё). не выше 150 см или не ниже 198 см: {0.0027000000000000357} , где sigma = {-3.0} {3.0}\n",
      "ж). ниже 166 см: {0.1587} , где sigma = {-1.0}\n"
     ]
    }
   ],
   "source": [
    "import math\n",
    "# Рост взрослого населения города X имеет нормальное распределение. \n",
    "# Причем, средний рост равен 174 см, а среднее квадратичное отклонение равно 8 см.\n",
    "# Какова вероятность того, что случайным образом выбранный взрослый человек имеет рост:\n",
    "# а). больше 182 см\n",
    "# б). больше 190 см\n",
    "# в). от 166 см до 190 см\n",
    "# г). от 166 см до 182 см\n",
    "# д). от 158 см до 190 см\n",
    "# е). не выше 150 см или не ниже 190 см\n",
    "# ё). не выше 150 см или не ниже 198 см\n",
    "# ж). ниже 166 см.\n",
    "\n",
    "def P_x(a,sigma,x):\n",
    "    P_x = 1/(sigma*math.sqrt(2*math.pi))*math.exp(-(x-a)**2/(2*sigma**2))\n",
    "    return P_x\n",
    "\n",
    "def sigmas(a,sigma,x):\n",
    "    sigmas = (x - 174)/sigma\n",
    "    return sigmas\n",
    "\n",
    "a = 174\n",
    "sigma = 8\n",
    "\n",
    "print('Вероятность того, что случайным образом выбранный взрослый человек имеет рост:')\n",
    "print('а). больше 182 см: ',{0.5-0.3413},', где sigma =',{sigmas(a,sigma,182)})\n",
    "print('а). больше 190 см: ',{0.5-0.4772},', где sigma =',{sigmas(a,sigma,190)})\n",
    "print('в). от 166 см до 190 см:',{0.3413+0.4772},', где sigma =',{sigmas(a,sigma,166)},{sigmas(a,sigma,190)})\n",
    "print('г). от 166 см до 182 см:',{0.3413+0.3413},', где sigma =',{sigmas(a,sigma,166)},{sigmas(a,sigma,182)})\n",
    "print('д). от 158 см до 190 см',{0.4772+0.4772},', где sigma =',{sigmas(a,sigma,158)},{sigmas(a,sigma,190)})\n",
    "print('е). не выше 150 см или не ниже 190 см:',{(0.5-0.49865)+(0.5-0.4772)},', где sigma =',{sigmas(a,sigma,150)},{sigmas(a,sigma,190)})\n",
    "print('ё). не выше 150 см или не ниже 198 см:',{(0.5-0.49865)+(0.5-0.49865)},', где sigma =',{sigmas(a,sigma,150)},{sigmas(a,sigma,198)})\n",
    "print('ж). ниже 166 см:',{0.5-0.3413},', где sigma =',{sigmas(a,sigma,166)})\n"
   ]
  },
  {
   "cell_type": "code",
   "execution_count": 75,
   "metadata": {},
   "outputs": [
    {
     "name": "stdout",
     "output_type": "stream",
     "text": [
      "На 2.4-сигм отклоняется рост человека, равный 190 см\n"
     ]
    }
   ],
   "source": [
    "# На сколько сигм (средних квадратичных отклонений) отклоняется рост человека, равный 190 см, от \n",
    "# математического ожидания роста в популяции, в которой M(X) = 178 см и D(X) = 25 кв.см?\n",
    "x = 190\n",
    "M_x = 178\n",
    "D_x = 25\n",
    "sigma = math.sqrt(D_x)\n",
    "sigmas = (x-M_x)/sigma \n",
    "print(f'На {sigmas}-сигм отклоняется рост человека, равный 190 см')"
   ]
  }
 ],
 "metadata": {
  "kernelspec": {
   "display_name": "Python 3",
   "language": "python",
   "name": "python3"
  }
 },
 "nbformat": 4,
 "nbformat_minor": 2
}
