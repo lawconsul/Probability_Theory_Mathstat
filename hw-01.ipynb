{
 "cells": [
  {
   "cell_type": "code",
   "execution_count": null,
   "metadata": {},
   "outputs": [],
   "source": [
    "# Теория вероятностей и математическая статистика\n",
    "# Урок 1. Случайные события. Условная вероятность. Формула Байеса. Независимые испытания"
   ]
  },
  {
   "cell_type": "code",
   "execution_count": 1,
   "metadata": {},
   "outputs": [],
   "source": [
    "from math import factorial as f1\n",
    "def C(k,n):\n",
    "    return f1(n)/(f1(k)*f1(n-k))"
   ]
  },
  {
   "cell_type": "code",
   "execution_count": 10,
   "metadata": {},
   "outputs": [
    {
     "name": "stdout",
     "output_type": "stream",
     "text": [
      "вероятность того, что все карты – крести: P = 0.0026410564225690276\n"
     ]
    }
   ],
   "source": [
    "# Из колоды в 52 карты извлекаются случайным образом 4 карты. \n",
    "# a) Найти вероятность того, что все карты – крести. \n",
    "P_kresti = C(4,13)*C(0,48)/C(4,52)\n",
    "print(f'вероятность того, что все карты – крести: P = {P_kresti}')"
   ]
  },
  {
   "cell_type": "code",
   "execution_count": null,
   "metadata": {},
   "outputs": [],
   "source": [
    "# б) Найти вероятность, что среди 4-х карт окажется хотя бы один туз."
   ]
  },
  {
   "cell_type": "code",
   "execution_count": 8,
   "metadata": {},
   "outputs": [
    {
     "name": "stdout",
     "output_type": "stream",
     "text": [
      "0.25555083571890297 0.0249995382768492 0.0007092067596269276 3.6937852063902484e-06\n",
      "вероятность, что среди 4-х карт окажется хотя бы один туз: P = 0.2812632745405855\n"
     ]
    }
   ],
   "source": [
    "P_1tuz = C(1,4)*C(3,48)/C(4,52)\n",
    "P_2tuz = C(2,4)*C(2,48)/C(4,52)\n",
    "P_3tuz = C(3,4)*C(1,48)/C(4,52)\n",
    "P_4tuz = C(4,4)*C(0,48)/C(4,52)\n",
    "print(P_1tuz, P_2tuz, P_3tuz, P_4tuz)\n",
    "P_1plustuz = P_1tuz + P_2tuz + P_3tuz + P_4tuz\n",
    "print(f'вероятность, что среди 4-х карт окажется хотя бы один туз: P = {P_1plustuz}')"
   ]
  },
  {
   "cell_type": "code",
   "execution_count": 17,
   "metadata": {},
   "outputs": [
    {
     "name": "stdout",
     "output_type": "stream",
     "text": [
      "вероятность того, что человек, не знающий код, откроет дверь с первой попытки: P = 0.008333333333333333\n"
     ]
    }
   ],
   "source": [
    "# На входной двери подъезда установлен кодовый замок, содержащий десять кнопок с цифрами от 0 до 9. \n",
    "# Код содержит три цифры, которые нужно нажать одновременно. \n",
    "# Какова вероятность того, что человек, не знающий код, откроет дверь с первой попытки?\n",
    "P_3but = 1/C(3,10)\n",
    "print(f'вероятность того, что человек, не знающий код, откроет дверь с первой попытки: P = {P_3but}')"
   ]
  },
  {
   "cell_type": "code",
   "execution_count": 14,
   "metadata": {},
   "outputs": [],
   "source": []
  },
  {
   "cell_type": "code",
   "execution_count": 18,
   "metadata": {},
   "outputs": [
    {
     "name": "stdout",
     "output_type": "stream",
     "text": [
      "вероятность того, что все извлеченные детали окрашены: P = 0.18461538461538463\n"
     ]
    }
   ],
   "source": [
    "# В ящике имеется 15 деталей, из которых 9 окрашены. \n",
    "# Рабочий случайным образом извлекает 3 детали. \n",
    "# Какова вероятность того, что все извлеченные детали окрашены?\n",
    "P_3col = C(3,9)*C(0,6)/C(3,15)\n",
    "print(f'вероятность того, что все извлеченные детали окрашены: P = {P_3col}')"
   ]
  },
  {
   "cell_type": "code",
   "execution_count": null,
   "metadata": {},
   "outputs": [],
   "source": []
  },
  {
   "cell_type": "code",
   "execution_count": null,
   "metadata": {},
   "outputs": [],
   "source": [
    "# В лотерее 100 билетов. Из них 2 выигрышных. \n",
    "# Какова вероятность того, что 2 приобретенных билета окажутся выигрышными?"
   ]
  },
  {
   "cell_type": "code",
   "execution_count": 19,
   "metadata": {},
   "outputs": [
    {
     "name": "stdout",
     "output_type": "stream",
     "text": [
      "вероятность того, что 2 приобретенных билета окажутся выигрышными: P = 0.00020202020202020202\n"
     ]
    }
   ],
   "source": [
    "P_2win = C(2,2)*C(0,98)/C(2,100)\n",
    "print(f'вероятность того, что 2 приобретенных билета окажутся выигрышными: P = {P_2win}')"
   ]
  },
  {
   "cell_type": "code",
   "execution_count": null,
   "metadata": {},
   "outputs": [],
   "source": []
  }
 ],
 "metadata": {
  "kernelspec": {
   "display_name": "Python 3",
   "language": "python",
   "name": "python3"
  },
  "language_info": {
   "codemirror_mode": {
    "name": "ipython",
    "version": 3
   },
   "file_extension": ".py",
   "mimetype": "text/x-python",
   "name": "python",
   "nbconvert_exporter": "python",
   "pygments_lexer": "ipython3",
   "version": "3.6.5"
  }
 },
 "nbformat": 4,
 "nbformat_minor": 2
}
