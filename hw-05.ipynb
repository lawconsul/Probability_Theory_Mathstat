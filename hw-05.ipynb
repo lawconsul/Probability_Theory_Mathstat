{
 "cells": [
  {
   "cell_type": "code",
   "execution_count": 26,
   "metadata": {},
   "outputs": [
    {
     "name": "stdout",
     "output_type": "stream",
     "text": [
      "Ф_t_lambda: 0.475\n",
      "delta: 1.96\n",
      "доверительный интервал: (78.04;81.96)\n"
     ]
    }
   ],
   "source": [
    "# 1\n",
    "# Известно, что генеральная совокупность распределена нормально \n",
    "# со средним квадратическим отклонением, равным 16. \n",
    "# Найти доверительный интервал для оценки математического ожидания a с надежностью 0.95, \n",
    "# если выборочная средняя M = 80, а объем выборки n = 256.\n",
    "\n",
    "sigma = 16\n",
    "M = 80\n",
    "n = 256\n",
    "lambda_ = 0.95\n",
    "Ф_t_lambda  = lambda_ / 2\n",
    "print(f'Ф_t_lambda: {Ф_t_lambda}')\n",
    "t_lambda = 1.96\n",
    "delta = t_lambda * sigma / n**0.5\n",
    "print(f'delta: {delta}')\n",
    "T1 = M - delta\n",
    "T2 = M + delta\n",
    "print(f'доверительный интервал: ({T1};{T2})')"
   ]
  },
  {
   "cell_type": "code",
   "execution_count": null,
   "metadata": {},
   "outputs": [],
   "source": []
  },
  {
   "cell_type": "code",
   "execution_count": 22,
   "metadata": {},
   "outputs": [
    {
     "name": "stdout",
     "output_type": "stream",
     "text": [
      "a_mean: 6.590000000000001\n",
      "a_std: 0.4508017549014448\n",
      "Таблица критических точек t-распределения Стьюдента, где p=0.05, V=9: 2.262\n",
      "delta: 0.32246174408757394\n",
      "доверительный интервал: (6.267538255912426;6.912461744087575)\n"
     ]
    }
   ],
   "source": [
    "# 2\n",
    "# В результате 10 независимых измерений некоторой величины X, выполненных с одинаковой точностью, \n",
    "# получены опытные данные:\n",
    "# 6.9, 6.1, 6.2, 6.8, 7.5, 6.3, 6.4, 6.9, 6.7, 6.1\n",
    "# Предполагая, что результаты измерений подчинены нормальному закону распределения вероятностей, \n",
    "# оценить истинное значение величины X при помощи доверительного интервала, покрывающего это \n",
    "# значение с доверительной вероятностью 0,95.\n",
    "import numpy as np\n",
    "a = np.array([6.9, 6.1, 6.2, 6.8, 7.5, 6.3, 6.4, 6.9, 6.7, 6.1])\n",
    "lambda_ = 0.95\n",
    "\n",
    "n = len(a)\n",
    "\n",
    "a_mean = a.mean()\n",
    "print(f'a_mean: {a_mean}')\n",
    "\n",
    "# a_std = (np.sum((a - a_mean)**2) / (n-1))**0.5\n",
    "a_std = a.std(ddof=1)\n",
    "print(f'a_std: {a_std}')\n",
    "\n",
    "t_kr = 2.262\n",
    "print(f'Таблица критических точек t-распределения Стьюдента, где p=0.05, V=9: {t_kr}')\n",
    "\n",
    "delta = t_kr * a_std / n**0.5\n",
    "print(f'delta: {delta}')\n",
    "\n",
    "T1 = a_mean - delta\n",
    "T2 = a_mean + delta\n",
    "print(f'доверительный интервал: ({T1};{T2})')"
   ]
  },
  {
   "cell_type": "markdown",
   "metadata": {},
   "source": [
    "$\\delta = \\frac{t_{\\lambda} \\cdot \\sigma}{\\sqrt{n}}$"
   ]
  },
  {
   "cell_type": "code",
   "execution_count": null,
   "metadata": {},
   "outputs": [],
   "source": [
    "# 3\n",
    "# Утверждается, что шарики для подшипников, изготовленные автоматическим станком, имеют средний диаметр 17 мм. \n",
    "# Используя односторонний критерий с α=0,05, проверить эту гипотезу, если в выборке из n=100 шариков средний диаметр \n",
    "# оказался равным 17.5 мм, а дисперсия известна и равна 4 мм."
   ]
  },
  {
   "cell_type": "markdown",
   "metadata": {},
   "source": [
    "H0: M = 17\n",
    "H1: M > 17"
   ]
  },
  {
   "cell_type": "code",
   "execution_count": 36,
   "metadata": {},
   "outputs": [
    {
     "name": "stdout",
     "output_type": "stream",
     "text": [
      "U_nabl: 1.25\n"
     ]
    }
   ],
   "source": [
    "sigma = 4\n",
    "n = 100\n",
    "M = 17\n",
    "M_ = 17.5\n",
    "delta = M_ - M\n",
    "U_nabl = delta * (n**0.5) / sigma\n",
    "print(f'U_nabl: {U_nabl}')"
   ]
  },
  {
   "cell_type": "markdown",
   "metadata": {},
   "source": [
    "Найдем критическую точку для односторонней критической области (по таблице Лапласа):"
   ]
  },
  {
   "cell_type": "code",
   "execution_count": 27,
   "metadata": {},
   "outputs": [
    {
     "name": "stdout",
     "output_type": "stream",
     "text": [
      "Ф: 0.45\n"
     ]
    }
   ],
   "source": [
    "alpha = 0.05\n",
    "Ф = (1-2*alpha) / 2\n",
    "print(f'Ф: {Ф}')"
   ]
  },
  {
   "cell_type": "code",
   "execution_count": 29,
   "metadata": {},
   "outputs": [],
   "source": [
    "u_kr = 1.645"
   ]
  },
  {
   "cell_type": "code",
   "execution_count": 30,
   "metadata": {},
   "outputs": [
    {
     "data": {
      "text/plain": [
       "True"
      ]
     },
     "execution_count": 30,
     "metadata": {},
     "output_type": "execute_result"
    }
   ],
   "source": [
    "U_nabl < u_kr"
   ]
  },
  {
   "cell_type": "code",
   "execution_count": null,
   "metadata": {},
   "outputs": [],
   "source": [
    "Ответ: принимаем H0."
   ]
  },
  {
   "cell_type": "code",
   "execution_count": null,
   "metadata": {},
   "outputs": [],
   "source": []
  },
  {
   "cell_type": "code",
   "execution_count": null,
   "metadata": {},
   "outputs": [],
   "source": [
    "# 4\n",
    "# Продавец утверждает, что средний вес пачки печенья составляет 200 г. \n",
    "# Из партии извлечена выборка из 10 пачек. Вес каждой пачки составляет:\n",
    "# 202, 203, 199, 197, 195, 201, 200, 204, 194, 190.\n",
    "# Известно, что их веса распределены нормально.\n",
    "# Верно ли утверждение продавца, если учитывать, что доверительная вероятность равна 99%?"
   ]
  },
  {
   "cell_type": "code",
   "execution_count": null,
   "metadata": {},
   "outputs": [],
   "source": [
    "H0: M = 200\n",
    "H1: M != 200"
   ]
  },
  {
   "cell_type": "code",
   "execution_count": 33,
   "metadata": {},
   "outputs": [
    {
     "name": "stdout",
     "output_type": "stream",
     "text": [
      "Ф: 0.49\n"
     ]
    }
   ],
   "source": [
    "alpha = 0.01\n",
    "Ф = (1-2*alpha) / 2\n",
    "print(f'Ф: {Ф}')"
   ]
  },
  {
   "cell_type": "code",
   "execution_count": 44,
   "metadata": {},
   "outputs": [
    {
     "name": "stdout",
     "output_type": "stream",
     "text": [
      "Таблица критических точек t-распределения Стьюдента, где p=0.01, V=9: u_kr = 3.25\n"
     ]
    }
   ],
   "source": [
    "u_kr = 3.25\n",
    "print(f'Таблица критических точек t-распределения Стьюдента, где p=0.01, V=9: u_kr = {u_kr}')"
   ]
  },
  {
   "cell_type": "code",
   "execution_count": 40,
   "metadata": {},
   "outputs": [
    {
     "name": "stdout",
     "output_type": "stream",
     "text": [
      "a_mean: 198.5\n",
      "a_std: 4.453463071962462\n"
     ]
    }
   ],
   "source": [
    "a = np.array([202, 203, 199, 197, 195, 201, 200, 204, 194, 190])\n",
    "lambda_ = 0.99\n",
    "n = len(a)\n",
    "a_mean = a.mean()\n",
    "print(f'a_mean: {a_mean}')\n",
    "a_std = a.std(ddof=1)\n",
    "print(f'a_std: {a_std}')"
   ]
  },
  {
   "cell_type": "code",
   "execution_count": 41,
   "metadata": {},
   "outputs": [
    {
     "name": "stdout",
     "output_type": "stream",
     "text": [
      "U_nabl: 1.0651074037450896\n"
     ]
    }
   ],
   "source": [
    "M = 200\n",
    "delta = M - a_mean\n",
    "U_nabl = delta * (n**0.5) / a_std\n",
    "print(f'U_nabl: {U_nabl}')"
   ]
  },
  {
   "cell_type": "code",
   "execution_count": 42,
   "metadata": {},
   "outputs": [
    {
     "data": {
      "text/plain": [
       "True"
      ]
     },
     "execution_count": 42,
     "metadata": {},
     "output_type": "execute_result"
    }
   ],
   "source": [
    "U_nabl < u_kr"
   ]
  },
  {
   "cell_type": "code",
   "execution_count": null,
   "metadata": {},
   "outputs": [],
   "source": [
    "Ответ: принимаем H0"
   ]
  },
  {
   "cell_type": "code",
   "execution_count": null,
   "metadata": {},
   "outputs": [],
   "source": []
  },
  {
   "cell_type": "code",
   "execution_count": null,
   "metadata": {},
   "outputs": [],
   "source": []
  },
  {
   "cell_type": "markdown",
   "metadata": {},
   "source": [
    "<img src='https://mathprofi.net/files/u/laplas.png'>Таблица значений функции Лапласа</img>"
   ]
  },
  {
   "cell_type": "markdown",
   "metadata": {},
   "source": [
    "<img src='http://900igr.net/up/datas/109946/035.jpg'>Таблица критических точек t-распределения Стьюдента</img>"
   ]
  }
 ],
 "metadata": {
  "kernelspec": {
   "display_name": "Python 3",
   "language": "python",
   "name": "python3"
  },
  "language_info": {
   "codemirror_mode": {
    "name": "ipython",
    "version": 3
   },
   "file_extension": ".py",
   "mimetype": "text/x-python",
   "name": "python",
   "nbconvert_exporter": "python",
   "pygments_lexer": "ipython3",
   "version": "3.6.5"
  }
 },
 "nbformat": 4,
 "nbformat_minor": 2
}
