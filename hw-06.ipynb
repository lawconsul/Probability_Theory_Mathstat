{
 "cells": [
  {
   "cell_type": "markdown",
   "metadata": {},
   "source": [
    "1\n",
    "Даны значения величины заработной платы заемщиков банка (zp) и значения их поведенческого кредитного скоринга (ks):\n",
    "zp = [35, 45, 190, 200, 40, 70, 54, 150, 120, 110],\n",
    "ks = [401, 574, 874, 919, 459, 739, 653, 902, 746, 832].\n",
    "Найдите ковариацию этих двух величин с помощью элементарных действий, а затем с помощью функции cov из numpy\n",
    "Полученные значения должны быть равны.\n",
    "Найдите коэффициент корреляции Пирсона с помощью ковариации и среднеквадратичных отклонений двух признаков,\n",
    "а затем с использованием функций из библиотек numpy и pandas."
   ]
  },
  {
   "cell_type": "code",
   "execution_count": 20,
   "metadata": {},
   "outputs": [
    {
     "name": "stdout",
     "output_type": "stream",
     "text": [
      "cov (смещенная): 9157.839999999997\n",
      "cov (несмещенная): 10175.377777777772\n",
      "cov: [[ 3882.93333333 10175.37777778]\n",
      " [10175.37777778 33854.32222222]]\n",
      "коэффициент корреляции Пирсона (r) с помощью среднеквадратичных отклонений: 0.8874900920739157\n",
      "коэффициент корреляции Пирсона (r) с помощью ковариации: [[1.         0.88749009]\n",
      " [0.88749009 1.        ]]\n"
     ]
    }
   ],
   "source": [
    "# 1\n",
    "import numpy as np\n",
    "zp = np.array([35, 45, 190, 200, 40, 70, 54, 150, 120, 110])\n",
    "ks = np.array([401, 574, 874, 919, 459, 739, 653, 902, 746, 832])\n",
    "n = len(zp)\n",
    "cov_ddof0 = np.mean(zp*ks) - np.mean(zp)*np.mean(ks)\n",
    "cov_ddof1 = (zp*ks).sum()/(n-1) - zp.sum()*ks.sum()/(n*(n-1))\n",
    "print(f'cov (смещенная): {cov_ddof0}')\n",
    "print(f'cov (несмещенная): {cov_ddof1}')\n",
    "cov = np.cov(zp,ks, ddof=1)\n",
    "print(f'cov: {cov}')\n",
    "r_std = cov_ddof1 / (zp.std(ddof=1)*ks.std(ddof=1))\n",
    "print(f'коэффициент корреляции Пирсона (r) с помощью среднеквадратичных отклонений: {r_std}')\n",
    "\n",
    "r_cov = np.corrcoef(zp, ks)\n",
    "print(f'коэффициент корреляции Пирсона (r) с помощью ковариации: {r_cov}')"
   ]
  },
  {
   "cell_type": "code",
   "execution_count": 24,
   "metadata": {},
   "outputs": [
    {
     "data": {
      "text/html": [
       "<div>\n",
       "<style scoped>\n",
       "    .dataframe tbody tr th:only-of-type {\n",
       "        vertical-align: middle;\n",
       "    }\n",
       "\n",
       "    .dataframe tbody tr th {\n",
       "        vertical-align: top;\n",
       "    }\n",
       "\n",
       "    .dataframe thead th {\n",
       "        text-align: right;\n",
       "    }\n",
       "</style>\n",
       "<table border=\"1\" class=\"dataframe\">\n",
       "  <thead>\n",
       "    <tr style=\"text-align: right;\">\n",
       "      <th></th>\n",
       "      <th>zp</th>\n",
       "      <th>ks</th>\n",
       "    </tr>\n",
       "  </thead>\n",
       "  <tbody>\n",
       "    <tr>\n",
       "      <th>zp</th>\n",
       "      <td>1.00000</td>\n",
       "      <td>0.88749</td>\n",
       "    </tr>\n",
       "    <tr>\n",
       "      <th>ks</th>\n",
       "      <td>0.88749</td>\n",
       "      <td>1.00000</td>\n",
       "    </tr>\n",
       "  </tbody>\n",
       "</table>\n",
       "</div>"
      ],
      "text/plain": [
       "         zp       ks\n",
       "zp  1.00000  0.88749\n",
       "ks  0.88749  1.00000"
      ]
     },
     "execution_count": 24,
     "metadata": {},
     "output_type": "execute_result"
    }
   ],
   "source": [
    "import pandas as pd\n",
    "df = pd.DataFrame({'zp':zp,'ks':ks})\n",
    "df.corr()"
   ]
  },
  {
   "cell_type": "markdown",
   "metadata": {},
   "source": [
    "2\n",
    "Измерены значения IQ выборки студентов, \n",
    "обучающихся в местных технических вузах:\n",
    "131, 125, 115, 122, 131, 115, 107, 99, 125, 111.\n",
    "Известно, что в генеральной совокупности IQ распределен нормально.\n",
    "Найдите доверительный интервал для математического ожидания с надежностью 0.95."
   ]
  },
  {
   "cell_type": "code",
   "execution_count": 32,
   "metadata": {},
   "outputs": [
    {
     "name": "stdout",
     "output_type": "stream",
     "text": [
      "Таблица критических точек t-распределения Стьюдента, где p=0.050000000000000044, V=9: 2.262\n",
      "delta: 7.543392236918348\n",
      "доверительный интервал: (110.55660776308164;125.64339223691834)\n"
     ]
    }
   ],
   "source": [
    "# 2\n",
    "iq = np.array([131, 125, 115, 122, 131, 115, 107, 99, 125, 111])\n",
    "n = len(iq)\n",
    "lambda_ = 0.95\n",
    "\n",
    "t_kr = 2.262\n",
    "print(f'Таблица критических точек t-распределения Стьюдента, где p={1-lambda_}, V={n-1}: {t_kr}')\n",
    "\n",
    "delta = tkr * iq.std(ddof=1) / (n)**0.5\n",
    "print(f'delta: {delta}')\n",
    "\n",
    "T1 = iq.mean() - delta\n",
    "T2 = iq.mean() + delta\n",
    "print(f'доверительный интервал: ({T1};{T2})')"
   ]
  },
  {
   "cell_type": "code",
   "execution_count": null,
   "metadata": {},
   "outputs": [],
   "source": [
    "3\n",
    "Известно, что рост футболистов в сборной распределен нормально\n",
    "с дисперсией генеральной совокупности, равной 25 кв.см. Объем выборки равен 27,\n",
    "среднее выборочное составляет 174.2. Найдите доверительный интервал для математического \n",
    "ожидания с надежностью 0.95."
   ]
  },
  {
   "cell_type": "code",
   "execution_count": 36,
   "metadata": {},
   "outputs": [
    {
     "name": "stdout",
     "output_type": "stream",
     "text": [
      "Ф_t_lambda: 0.475\n",
      "delta: 1.8860108793527777\n",
      "доверительный интервал: (172.31398912064722;176.08601087935276)\n"
     ]
    }
   ],
   "source": [
    "# 3\n",
    "D = 25\n",
    "sigma = D**0.5\n",
    "n = 27\n",
    "M = 174.2\n",
    "\n",
    "lambda_ = 0.95\n",
    "Ф_t_lambda  = lambda_ / 2\n",
    "print(f'Ф_t_lambda: {Ф_t_lambda}')\n",
    "\n",
    "t_lambda = 1.96\n",
    "delta = t_lambda * sigma / n**0.5\n",
    "print(f'delta: {delta}')\n",
    "\n",
    "T1 = M - delta\n",
    "T2 = M + delta\n",
    "print(f'доверительный интервал: ({T1};{T2})')"
   ]
  },
  {
   "cell_type": "markdown",
   "metadata": {},
   "source": [
    "4\n",
    "Выберите тему для проектной работы по курсу Теории вероятностей и математической статистики\n",
    "и напишите ее в комментарии к Практическому заданию."
   ]
  },
  {
   "cell_type": "code",
   "execution_count": 37,
   "metadata": {},
   "outputs": [],
   "source": [
    "# 4\n",
    "# Исследование на ресурсе IMDB закономерности между медианой возраста актеров и популярностью кинофильма или его сборами в США и по всему миру\n"
   ]
  },
  {
   "cell_type": "code",
   "execution_count": null,
   "metadata": {},
   "outputs": [],
   "source": []
  }
 ],
 "metadata": {
  "kernelspec": {
   "display_name": "Python 3",
   "language": "python",
   "name": "python3"
  },
  "language_info": {
   "codemirror_mode": {
    "name": "ipython",
    "version": 3
   },
   "file_extension": ".py",
   "mimetype": "text/x-python",
   "name": "python",
   "nbconvert_exporter": "python",
   "pygments_lexer": "ipython3",
   "version": "3.6.5"
  }
 },
 "nbformat": 4,
 "nbformat_minor": 2
}
